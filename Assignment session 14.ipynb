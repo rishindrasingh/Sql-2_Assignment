{
 "cells": [
  {
   "cell_type": "markdown",
   "metadata": {},
   "source": [
    "Assignment Session 14"
   ]
  },
  {
   "cell_type": "markdown",
   "metadata": {},
   "source": [
    "2.​ Problem Statement\n",
    "Read the following data set:\n",
    "https://archive.ics.uci.edu/ml/machine-learning-databases/adult/adult.data\n",
    "Task:\n",
    "1. Create an sqlalchemy engine using a sample from the data set\n",
    "2. Write two basic update queries\n",
    "3. Write two delete queries\n",
    "4. Write two filter queries\n",
    "5. Write two function queries"
   ]
  },
  {
   "cell_type": "code",
   "execution_count": 1,
   "metadata": {
    "collapsed": true
   },
   "outputs": [],
   "source": [
    "import numpy as np\n",
    "import pandas as pd\n",
    "import sqlite3\n"
   ]
  },
  {
   "cell_type": "markdown",
   "metadata": {},
   "source": [
    "Reading dataset"
   ]
  },
  {
   "cell_type": "code",
   "execution_count": 2,
   "metadata": {
    "collapsed": true
   },
   "outputs": [],
   "source": [
    "adult_data_df= pd.read_csv('https://archive.ics.uci.edu/ml/machine-learning-databases/adult/adult.data')"
   ]
  },
  {
   "cell_type": "code",
   "execution_count": 3,
   "metadata": {},
   "outputs": [
    {
     "data": {
      "text/html": [
       "<div>\n",
       "<style scoped>\n",
       "    .dataframe tbody tr th:only-of-type {\n",
       "        vertical-align: middle;\n",
       "    }\n",
       "\n",
       "    .dataframe tbody tr th {\n",
       "        vertical-align: top;\n",
       "    }\n",
       "\n",
       "    .dataframe thead th {\n",
       "        text-align: right;\n",
       "    }\n",
       "</style>\n",
       "<table border=\"1\" class=\"dataframe\">\n",
       "  <thead>\n",
       "    <tr style=\"text-align: right;\">\n",
       "      <th></th>\n",
       "      <th>39</th>\n",
       "      <th>State-gov</th>\n",
       "      <th>77516</th>\n",
       "      <th>Bachelors</th>\n",
       "      <th>13</th>\n",
       "      <th>Never-married</th>\n",
       "      <th>Adm-clerical</th>\n",
       "      <th>Not-in-family</th>\n",
       "      <th>White</th>\n",
       "      <th>Male</th>\n",
       "      <th>2174</th>\n",
       "      <th>0</th>\n",
       "      <th>40</th>\n",
       "      <th>United-States</th>\n",
       "      <th>&lt;=50K</th>\n",
       "    </tr>\n",
       "  </thead>\n",
       "  <tbody>\n",
       "    <tr>\n",
       "      <th>0</th>\n",
       "      <td>50</td>\n",
       "      <td>Self-emp-not-inc</td>\n",
       "      <td>83311</td>\n",
       "      <td>Bachelors</td>\n",
       "      <td>13</td>\n",
       "      <td>Married-civ-spouse</td>\n",
       "      <td>Exec-managerial</td>\n",
       "      <td>Husband</td>\n",
       "      <td>White</td>\n",
       "      <td>Male</td>\n",
       "      <td>0</td>\n",
       "      <td>0</td>\n",
       "      <td>13</td>\n",
       "      <td>United-States</td>\n",
       "      <td>&lt;=50K</td>\n",
       "    </tr>\n",
       "    <tr>\n",
       "      <th>1</th>\n",
       "      <td>38</td>\n",
       "      <td>Private</td>\n",
       "      <td>215646</td>\n",
       "      <td>HS-grad</td>\n",
       "      <td>9</td>\n",
       "      <td>Divorced</td>\n",
       "      <td>Handlers-cleaners</td>\n",
       "      <td>Not-in-family</td>\n",
       "      <td>White</td>\n",
       "      <td>Male</td>\n",
       "      <td>0</td>\n",
       "      <td>0</td>\n",
       "      <td>40</td>\n",
       "      <td>United-States</td>\n",
       "      <td>&lt;=50K</td>\n",
       "    </tr>\n",
       "    <tr>\n",
       "      <th>2</th>\n",
       "      <td>53</td>\n",
       "      <td>Private</td>\n",
       "      <td>234721</td>\n",
       "      <td>11th</td>\n",
       "      <td>7</td>\n",
       "      <td>Married-civ-spouse</td>\n",
       "      <td>Handlers-cleaners</td>\n",
       "      <td>Husband</td>\n",
       "      <td>Black</td>\n",
       "      <td>Male</td>\n",
       "      <td>0</td>\n",
       "      <td>0</td>\n",
       "      <td>40</td>\n",
       "      <td>United-States</td>\n",
       "      <td>&lt;=50K</td>\n",
       "    </tr>\n",
       "    <tr>\n",
       "      <th>3</th>\n",
       "      <td>28</td>\n",
       "      <td>Private</td>\n",
       "      <td>338409</td>\n",
       "      <td>Bachelors</td>\n",
       "      <td>13</td>\n",
       "      <td>Married-civ-spouse</td>\n",
       "      <td>Prof-specialty</td>\n",
       "      <td>Wife</td>\n",
       "      <td>Black</td>\n",
       "      <td>Female</td>\n",
       "      <td>0</td>\n",
       "      <td>0</td>\n",
       "      <td>40</td>\n",
       "      <td>Cuba</td>\n",
       "      <td>&lt;=50K</td>\n",
       "    </tr>\n",
       "    <tr>\n",
       "      <th>4</th>\n",
       "      <td>37</td>\n",
       "      <td>Private</td>\n",
       "      <td>284582</td>\n",
       "      <td>Masters</td>\n",
       "      <td>14</td>\n",
       "      <td>Married-civ-spouse</td>\n",
       "      <td>Exec-managerial</td>\n",
       "      <td>Wife</td>\n",
       "      <td>White</td>\n",
       "      <td>Female</td>\n",
       "      <td>0</td>\n",
       "      <td>0</td>\n",
       "      <td>40</td>\n",
       "      <td>United-States</td>\n",
       "      <td>&lt;=50K</td>\n",
       "    </tr>\n",
       "  </tbody>\n",
       "</table>\n",
       "</div>"
      ],
      "text/plain": [
       "   39          State-gov   77516   Bachelors   13        Never-married  \\\n",
       "0  50   Self-emp-not-inc   83311   Bachelors   13   Married-civ-spouse   \n",
       "1  38            Private  215646     HS-grad    9             Divorced   \n",
       "2  53            Private  234721        11th    7   Married-civ-spouse   \n",
       "3  28            Private  338409   Bachelors   13   Married-civ-spouse   \n",
       "4  37            Private  284582     Masters   14   Married-civ-spouse   \n",
       "\n",
       "         Adm-clerical   Not-in-family   White     Male   2174   0   40  \\\n",
       "0     Exec-managerial         Husband   White     Male      0   0   13   \n",
       "1   Handlers-cleaners   Not-in-family   White     Male      0   0   40   \n",
       "2   Handlers-cleaners         Husband   Black     Male      0   0   40   \n",
       "3      Prof-specialty            Wife   Black   Female      0   0   40   \n",
       "4     Exec-managerial            Wife   White   Female      0   0   40   \n",
       "\n",
       "    United-States   <=50K  \n",
       "0   United-States   <=50K  \n",
       "1   United-States   <=50K  \n",
       "2   United-States   <=50K  \n",
       "3            Cuba   <=50K  \n",
       "4   United-States   <=50K  "
      ]
     },
     "execution_count": 3,
     "metadata": {},
     "output_type": "execute_result"
    }
   ],
   "source": [
    "adult_data_df.head()"
   ]
  },
  {
   "cell_type": "markdown",
   "metadata": {},
   "source": [
    "Insetring columns to make the dataset tidier"
   ]
  },
  {
   "cell_type": "code",
   "execution_count": 4,
   "metadata": {
    "collapsed": true
   },
   "outputs": [],
   "source": [
    "adult_data_df.columns =[\"age\",\"workclass\",\"fnlwgt\",\"education\",\"education_num\",\"marital_status\",\"occupation\",\"relationship\",\"race\",\"sex\",\"capital_gain\",\"capital_loss\",\"hours_per_week\",\"native_country\",\"income\"]"
   ]
  },
  {
   "cell_type": "code",
   "execution_count": 5,
   "metadata": {},
   "outputs": [
    {
     "data": {
      "text/html": [
       "<div>\n",
       "<style scoped>\n",
       "    .dataframe tbody tr th:only-of-type {\n",
       "        vertical-align: middle;\n",
       "    }\n",
       "\n",
       "    .dataframe tbody tr th {\n",
       "        vertical-align: top;\n",
       "    }\n",
       "\n",
       "    .dataframe thead th {\n",
       "        text-align: right;\n",
       "    }\n",
       "</style>\n",
       "<table border=\"1\" class=\"dataframe\">\n",
       "  <thead>\n",
       "    <tr style=\"text-align: right;\">\n",
       "      <th></th>\n",
       "      <th>age</th>\n",
       "      <th>workclass</th>\n",
       "      <th>fnlwgt</th>\n",
       "      <th>education</th>\n",
       "      <th>education_num</th>\n",
       "      <th>marital_status</th>\n",
       "      <th>occupation</th>\n",
       "      <th>relationship</th>\n",
       "      <th>race</th>\n",
       "      <th>sex</th>\n",
       "      <th>capital_gain</th>\n",
       "      <th>capital_loss</th>\n",
       "      <th>hours_per_week</th>\n",
       "      <th>native_country</th>\n",
       "      <th>income</th>\n",
       "    </tr>\n",
       "  </thead>\n",
       "  <tbody>\n",
       "    <tr>\n",
       "      <th>0</th>\n",
       "      <td>50</td>\n",
       "      <td>Self-emp-not-inc</td>\n",
       "      <td>83311</td>\n",
       "      <td>Bachelors</td>\n",
       "      <td>13</td>\n",
       "      <td>Married-civ-spouse</td>\n",
       "      <td>Exec-managerial</td>\n",
       "      <td>Husband</td>\n",
       "      <td>White</td>\n",
       "      <td>Male</td>\n",
       "      <td>0</td>\n",
       "      <td>0</td>\n",
       "      <td>13</td>\n",
       "      <td>United-States</td>\n",
       "      <td>&lt;=50K</td>\n",
       "    </tr>\n",
       "    <tr>\n",
       "      <th>1</th>\n",
       "      <td>38</td>\n",
       "      <td>Private</td>\n",
       "      <td>215646</td>\n",
       "      <td>HS-grad</td>\n",
       "      <td>9</td>\n",
       "      <td>Divorced</td>\n",
       "      <td>Handlers-cleaners</td>\n",
       "      <td>Not-in-family</td>\n",
       "      <td>White</td>\n",
       "      <td>Male</td>\n",
       "      <td>0</td>\n",
       "      <td>0</td>\n",
       "      <td>40</td>\n",
       "      <td>United-States</td>\n",
       "      <td>&lt;=50K</td>\n",
       "    </tr>\n",
       "    <tr>\n",
       "      <th>2</th>\n",
       "      <td>53</td>\n",
       "      <td>Private</td>\n",
       "      <td>234721</td>\n",
       "      <td>11th</td>\n",
       "      <td>7</td>\n",
       "      <td>Married-civ-spouse</td>\n",
       "      <td>Handlers-cleaners</td>\n",
       "      <td>Husband</td>\n",
       "      <td>Black</td>\n",
       "      <td>Male</td>\n",
       "      <td>0</td>\n",
       "      <td>0</td>\n",
       "      <td>40</td>\n",
       "      <td>United-States</td>\n",
       "      <td>&lt;=50K</td>\n",
       "    </tr>\n",
       "    <tr>\n",
       "      <th>3</th>\n",
       "      <td>28</td>\n",
       "      <td>Private</td>\n",
       "      <td>338409</td>\n",
       "      <td>Bachelors</td>\n",
       "      <td>13</td>\n",
       "      <td>Married-civ-spouse</td>\n",
       "      <td>Prof-specialty</td>\n",
       "      <td>Wife</td>\n",
       "      <td>Black</td>\n",
       "      <td>Female</td>\n",
       "      <td>0</td>\n",
       "      <td>0</td>\n",
       "      <td>40</td>\n",
       "      <td>Cuba</td>\n",
       "      <td>&lt;=50K</td>\n",
       "    </tr>\n",
       "    <tr>\n",
       "      <th>4</th>\n",
       "      <td>37</td>\n",
       "      <td>Private</td>\n",
       "      <td>284582</td>\n",
       "      <td>Masters</td>\n",
       "      <td>14</td>\n",
       "      <td>Married-civ-spouse</td>\n",
       "      <td>Exec-managerial</td>\n",
       "      <td>Wife</td>\n",
       "      <td>White</td>\n",
       "      <td>Female</td>\n",
       "      <td>0</td>\n",
       "      <td>0</td>\n",
       "      <td>40</td>\n",
       "      <td>United-States</td>\n",
       "      <td>&lt;=50K</td>\n",
       "    </tr>\n",
       "  </tbody>\n",
       "</table>\n",
       "</div>"
      ],
      "text/plain": [
       "   age          workclass  fnlwgt   education  education_num  \\\n",
       "0   50   Self-emp-not-inc   83311   Bachelors             13   \n",
       "1   38            Private  215646     HS-grad              9   \n",
       "2   53            Private  234721        11th              7   \n",
       "3   28            Private  338409   Bachelors             13   \n",
       "4   37            Private  284582     Masters             14   \n",
       "\n",
       "        marital_status          occupation    relationship    race      sex  \\\n",
       "0   Married-civ-spouse     Exec-managerial         Husband   White     Male   \n",
       "1             Divorced   Handlers-cleaners   Not-in-family   White     Male   \n",
       "2   Married-civ-spouse   Handlers-cleaners         Husband   Black     Male   \n",
       "3   Married-civ-spouse      Prof-specialty            Wife   Black   Female   \n",
       "4   Married-civ-spouse     Exec-managerial            Wife   White   Female   \n",
       "\n",
       "   capital_gain  capital_loss  hours_per_week  native_country  income  \n",
       "0             0             0              13   United-States   <=50K  \n",
       "1             0             0              40   United-States   <=50K  \n",
       "2             0             0              40   United-States   <=50K  \n",
       "3             0             0              40            Cuba   <=50K  \n",
       "4             0             0              40   United-States   <=50K  "
      ]
     },
     "execution_count": 5,
     "metadata": {},
     "output_type": "execute_result"
    }
   ],
   "source": [
    "adult_data_df.head()"
   ]
  },
  {
   "cell_type": "markdown",
   "metadata": {},
   "source": [
    "Starting Engine\n",
    "Q1. Create an sqlalchemy engine using a sample from the data set"
   ]
  },
  {
   "cell_type": "code",
   "execution_count": 6,
   "metadata": {
    "collapsed": true
   },
   "outputs": [],
   "source": [
    "import sqlalchemy\n",
    "from sqlalchemy import create_engine\n",
    "engine = create_engine('sqlite:///sqladb', echo=False)"
   ]
  },
  {
   "cell_type": "code",
   "execution_count": 7,
   "metadata": {
    "collapsed": true
   },
   "outputs": [],
   "source": [
    "adult_data_df.to_sql('sqladb', engine, if_exists ='replace')"
   ]
  },
  {
   "cell_type": "code",
   "execution_count": 8,
   "metadata": {
    "collapsed": true
   },
   "outputs": [],
   "source": [
    "connection = sqlite3.connect(\"sqladb\")\n",
    "cursor = connection.cursor()"
   ]
  },
  {
   "cell_type": "markdown",
   "metadata": {},
   "source": [
    "Q2. Write two basic update queries"
   ]
  },
  {
   "cell_type": "code",
   "execution_count": 9,
   "metadata": {},
   "outputs": [
    {
     "name": "stdout",
     "output_type": "stream",
     "text": [
      "   index  age          workclass  fnlwgt   education  education_num  \\\n",
      "0      0   50   Self-emp-not-inc    1515   Bachelors             13   \n",
      "1      1   38            Private  215646     HS-grad              9   \n",
      "\n",
      "        marital_status          occupation    relationship    race    sex  \\\n",
      "0   Married-civ-spouse     Exec-managerial         Husband   White   Male   \n",
      "1             Divorced   Handlers-cleaners   Not-in-family   White   Male   \n",
      "\n",
      "   capital_gain  capital_loss  hours_per_week  native_country  income  \n",
      "0             0             0              13   United-States   <=50K  \n",
      "1             0             0              40   United-States   <=50K  \n"
     ]
    }
   ],
   "source": [
    "cursor.execute('UPDATE sqladb SET fnlwgt = \"1515\" WHERE fnlwgt = \" 83311\"')\n",
    "print(pd.read_sql_query(\"SELECT * FROM sqladb\", connection).head(2))"
   ]
  },
  {
   "cell_type": "code",
   "execution_count": 10,
   "metadata": {},
   "outputs": [
    {
     "name": "stdout",
     "output_type": "stream",
     "text": [
      "   index  age          workclass  fnlwgt education  education_num  \\\n",
      "0      0   50   Self-emp-not-inc    1515       B.A             13   \n",
      "1      1   38            Private  215646   HS-grad              9   \n",
      "2      2   53            Private  234721      11th              7   \n",
      "3      3   28            Private  338409       B.A             13   \n",
      "4      4   37            Private  284582   Masters             14   \n",
      "\n",
      "        marital_status          occupation    relationship    race      sex  \\\n",
      "0   Married-civ-spouse     Exec-managerial         Husband   White     Male   \n",
      "1             Divorced   Handlers-cleaners   Not-in-family   White     Male   \n",
      "2   Married-civ-spouse   Handlers-cleaners         Husband   Black     Male   \n",
      "3   Married-civ-spouse      Prof-specialty            Wife   Black   Female   \n",
      "4   Married-civ-spouse     Exec-managerial            Wife   White   Female   \n",
      "\n",
      "   capital_gain  capital_loss  hours_per_week  native_country  income  \n",
      "0             0             0              13   United-States   <=50K  \n",
      "1             0             0              40   United-States   <=50K  \n",
      "2             0             0              40   United-States   <=50K  \n",
      "3             0             0              40            Cuba   <=50K  \n",
      "4             0             0              40   United-States   <=50K  \n"
     ]
    }
   ],
   "source": [
    "cursor.execute('UPDATE sqladb SET education = \"B.A\" WHERE education = \" Bachelors\"')\n",
    "print(pd.read_sql_query(\"SELECT * FROM sqladb\", connection).head())"
   ]
  },
  {
   "cell_type": "markdown",
   "metadata": {},
   "source": [
    "Q3. Write two delete queries"
   ]
  },
  {
   "cell_type": "code",
   "execution_count": 11,
   "metadata": {},
   "outputs": [
    {
     "name": "stdout",
     "output_type": "stream",
     "text": [
      "   index  age workclass  fnlwgt education  education_num       marital_status  \\\n",
      "0      1   38   Private  215646   HS-grad              9             Divorced   \n",
      "1      2   53   Private  234721      11th              7   Married-civ-spouse   \n",
      "\n",
      "           occupation    relationship    race    sex  capital_gain  \\\n",
      "0   Handlers-cleaners   Not-in-family   White   Male             0   \n",
      "1   Handlers-cleaners         Husband   Black   Male             0   \n",
      "\n",
      "   capital_loss  hours_per_week  native_country  income  \n",
      "0             0              40   United-States   <=50K  \n",
      "1             0              40   United-States   <=50K  \n"
     ]
    }
   ],
   "source": [
    "cursor.execute('DELETE FROM sqladb WHERE fnlwgt = \" 1515\"')\n",
    "print(pd.read_sql_query(\"SELECT * FROM sqladb\", connection).head(2)) "
   ]
  },
  {
   "cell_type": "code",
   "execution_count": 12,
   "metadata": {},
   "outputs": [
    {
     "name": "stdout",
     "output_type": "stream",
     "text": [
      "   index  age          workclass  fnlwgt education  education_num  \\\n",
      "0      1   38            Private  215646   HS-grad              9   \n",
      "1      3   28            Private  338409       B.A             13   \n",
      "2      4   37            Private  284582   Masters             14   \n",
      "3      5   49            Private  160187       9th              5   \n",
      "4      6   52   Self-emp-not-inc  209642   HS-grad              9   \n",
      "\n",
      "           marital_status          occupation    relationship    race  \\\n",
      "0                Divorced   Handlers-cleaners   Not-in-family   White   \n",
      "1      Married-civ-spouse      Prof-specialty            Wife   Black   \n",
      "2      Married-civ-spouse     Exec-managerial            Wife   White   \n",
      "3   Married-spouse-absent       Other-service   Not-in-family   Black   \n",
      "4      Married-civ-spouse     Exec-managerial         Husband   White   \n",
      "\n",
      "       sex  capital_gain  capital_loss  hours_per_week  native_country  income  \n",
      "0     Male             0             0              40   United-States   <=50K  \n",
      "1   Female             0             0              40            Cuba   <=50K  \n",
      "2   Female             0             0              40   United-States   <=50K  \n",
      "3   Female             0             0              16         Jamaica   <=50K  \n",
      "4     Male             0             0              45   United-States    >50K  \n"
     ]
    }
   ],
   "source": [
    "cursor.execute('DELETE FROM sqladb WHERE age = \" 53\" AND fnlwgt = \" 234721\" and race = \" Black\" and Sex = \" Male\"')\n",
    "print(pd.read_sql_query(\"SELECT * FROM sqladb\", connection).head()) "
   ]
  },
  {
   "cell_type": "markdown",
   "metadata": {},
   "source": [
    "Q4 Write two filter queries"
   ]
  },
  {
   "cell_type": "code",
   "execution_count": 13,
   "metadata": {},
   "outputs": [
    {
     "name": "stdout",
     "output_type": "stream",
     "text": [
      "[(141, 19, ' Private', 316868, ' Some-college', 10, ' Never-married', ' Other-service', ' Own-child', ' White', ' Male', 0, 0, 30, ' Mexico', ' <=50K'), (334, 17, ' Private', 270942, ' 5th-6th', 3, ' Never-married', ' Other-service', ' Other-relative', ' White', ' Male', 0, 0, 48, ' Mexico', ' <=50K'), (2721, 19, ' Private', 275889, ' 11th', 7, ' Never-married', ' Handlers-cleaners', ' Own-child', ' White', ' Male', 0, 0, 40, ' Mexico', ' <=50K'), (3117, 19, ' Private', 130431, ' 5th-6th', 3, ' Never-married', ' Farming-fishing', ' Not-in-family', ' White', ' Male', 0, 0, 36, ' Mexico', ' <=50K'), (7753, 18, ' Private', 444822, ' 11th', 7, ' Never-married', ' Sales', ' Own-child', ' White', ' Female', 0, 0, 8, ' Mexico', ' <=50K'), (9959, 19, ' Private', 228238, ' HS-grad', 9, ' Never-married', ' Machine-op-inspct', ' Other-relative', ' White', ' Male', 0, 0, 40, ' Mexico', ' <=50K'), (13285, 18, ' Private', 333611, ' 5th-6th', 3, ' Never-married', ' Other-service', ' Other-relative', ' White', ' Male', 0, 0, 54, ' Mexico', ' <=50K'), (14156, 17, ' Private', 270942, ' HS-grad', 9, ' Never-married', ' Other-service', ' Other-relative', ' White', ' Male', 0, 0, 35, ' Mexico', ' <=50K'), (14519, 18, ' Private', 79443, ' 9th', 5, ' Never-married', ' Machine-op-inspct', ' Own-child', ' White', ' Male', 0, 0, 40, ' Mexico', ' <=50K'), (21785, 18, ' Private', 335065, ' 7th-8th', 4, ' Never-married', ' Sales', ' Own-child', ' White', ' Male', 0, 0, 30, ' Mexico', ' <=50K'), (22106, 17, ' Private', 438996, ' 10th', 6, ' Never-married', ' Other-service', ' Other-relative', ' White', ' Male', 0, 0, 40, ' Mexico', ' <=50K'), (23874, 19, ' Private', 316797, ' 7th-8th', 4, ' Married-civ-spouse', ' Handlers-cleaners', ' Own-child', ' White', ' Male', 0, 0, 45, ' Mexico', ' <=50K'), (24351, 18, ' Private', 184693, ' Some-college', 10, ' Never-married', ' Other-service', ' Own-child', ' White', ' Female', 0, 0, 20, ' Mexico', ' <=50K'), (24950, 19, ' Private', 277695, ' 9th', 5, ' Never-married', ' Farming-fishing', ' Other-relative', ' White', ' Male', 0, 0, 16, ' Mexico', ' <=50K'), (27404, 18, ' Private', 426836, ' 5th-6th', 3, ' Never-married', ' Handlers-cleaners', ' Other-relative', ' White', ' Male', 0, 0, 40, ' Mexico', ' <=50K'), (27530, 19, ' Private', 472807, ' 1st-4th', 2, ' Never-married', ' Handlers-cleaners', ' Other-relative', ' White', ' Male', 0, 0, 52, ' Mexico', ' <=50K'), (27793, 19, ' Private', 225775, ' Some-college', 10, ' Never-married', ' Craft-repair', ' Not-in-family', ' White', ' Male', 0, 0, 45, ' Mexico', ' <=50K'), (28835, 19, ' Private', 311974, ' HS-grad', 9, ' Never-married', ' Craft-repair', ' Other-relative', ' White', ' Male', 0, 0, 25, ' Mexico', ' <=50K'), (29456, 19, ' Private', 340567, ' 1st-4th', 2, ' Never-married', ' Handlers-cleaners', ' Not-in-family', ' White', ' Male', 0, 0, 55, ' Mexico', ' <=50K'), (29875, 19, ' Private', 311974, ' 1st-4th', 2, ' Never-married', ' Machine-op-inspct', ' Other-relative', ' White', ' Male', 0, 0, 40, ' Mexico', ' <=50K')]\n"
     ]
    }
   ],
   "source": [
    "cursor.execute('SELECT DISTINCT * FROM sqladb WHERE workclass = \" Private\" AND age < 20 AND race = \" White\" AND native_country=\" Mexico\"')\n",
    "output = cursor.fetchall()\n",
    "print(output) "
   ]
  },
  {
   "cell_type": "code",
   "execution_count": 14,
   "metadata": {},
   "outputs": [
    {
     "name": "stdout",
     "output_type": "stream",
     "text": [
      "[(377, 46, ' Self-emp-not-inc', 80914, ' Masters', 14, ' Divorced', ' Exec-managerial', ' Not-in-family', ' White', ' Male', 0, 0, 30, ' United-States', ' <=50K'), (568, 47, ' Private', 87490, ' Masters', 14, ' Divorced', ' Exec-managerial', ' Unmarried', ' White', ' Male', 0, 0, 42, ' United-States', ' <=50K'), (995, 45, ' Private', 89325, ' Masters', 14, ' Divorced', ' Prof-specialty', ' Not-in-family', ' White', ' Male', 0, 0, 45, ' United-States', ' <=50K'), (1674, 43, ' Private', 37937, ' Masters', 14, ' Divorced', ' Exec-managerial', ' Unmarried', ' White', ' Male', 0, 0, 50, ' United-States', ' <=50K'), (2185, 47, ' Self-emp-not-inc', 77102, ' Masters', 14, ' Divorced', ' Prof-specialty', ' Not-in-family', ' White', ' Male', 0, 0, 40, ' United-States', ' <=50K'), (3159, 43, ' Local-gov', 247514, ' Masters', 14, ' Divorced', ' Prof-specialty', ' Unmarried', ' White', ' Male', 0, 0, 40, ' United-States', ' <=50K'), (3978, 48, ' Private', 96798, ' Masters', 14, ' Divorced', ' Sales', ' Not-in-family', ' White', ' Male', 0, 0, 35, ' United-States', ' <=50K'), (5282, 40, ' Private', 167265, ' Masters', 14, ' Divorced', ' Prof-specialty', ' Not-in-family', ' White', ' Male', 0, 0, 43, ' United-States', ' <=50K'), (5304, 42, ' Federal-gov', 74680, ' Masters', 14, ' Divorced', ' Adm-clerical', ' Not-in-family', ' White', ' Male', 0, 2001, 60, ' United-States', ' <=50K'), (5647, 45, ' State-gov', 67544, ' Masters', 14, ' Divorced', ' Protective-serv', ' Not-in-family', ' White', ' Male', 0, 0, 50, ' United-States', ' <=50K'), (5925, 42, ' Private', 259643, ' Masters', 14, ' Divorced', ' Prof-specialty', ' Not-in-family', ' White', ' Male', 4650, 0, 40, ' United-States', ' <=50K'), (8184, 37, ' Private', 312271, ' Masters', 14, ' Divorced', ' Exec-managerial', ' Not-in-family', ' White', ' Male', 0, 0, 65, ' United-States', ' <=50K'), (8389, 45, ' Local-gov', 195418, ' Masters', 14, ' Divorced', ' Prof-specialty', ' Not-in-family', ' Black', ' Male', 0, 0, 40, ' United-States', ' <=50K'), (8765, 42, ' Local-gov', 176716, ' Masters', 14, ' Divorced', ' Prof-specialty', ' Not-in-family', ' White', ' Male', 0, 0, 40, ' United-States', ' <=50K'), (11256, 37, ' Private', 372525, ' Masters', 14, ' Divorced', ' Prof-specialty', ' Unmarried', ' White', ' Male', 0, 0, 48, ' United-States', ' <=50K'), (11817, 36, ' State-gov', 108320, ' Masters', 14, ' Divorced', ' Prof-specialty', ' Unmarried', ' White', ' Male', 5455, 0, 30, ' United-States', ' <=50K'), (17227, 41, ' Local-gov', 33068, ' Masters', 14, ' Divorced', ' Prof-specialty', ' Not-in-family', ' White', ' Male', 0, 1974, 40, ' United-States', ' <=50K'), (22433, 45, ' Private', 168262, ' Masters', 14, ' Divorced', ' Prof-specialty', ' Not-in-family', ' White', ' Male', 0, 0, 40, ' United-States', ' <=50K'), (25378, 45, ' State-gov', 127089, ' Masters', 14, ' Divorced', ' Exec-managerial', ' Not-in-family', ' White', ' Male', 0, 0, 45, ' United-States', ' <=50K'), (25519, 48, ' State-gov', 49595, ' Masters', 14, ' Divorced', ' Protective-serv', ' Not-in-family', ' White', ' Male', 0, 0, 72, ' United-States', ' <=50K'), (25877, 45, ' Self-emp-not-inc', 246891, ' Masters', 14, ' Divorced', ' Craft-repair', ' Not-in-family', ' White', ' Male', 0, 0, 40, ' United-States', ' <=50K'), (26218, 42, ' State-gov', 219682, ' Masters', 14, ' Divorced', ' Exec-managerial', ' Not-in-family', ' White', ' Male', 0, 0, 45, ' United-States', ' <=50K'), (29188, 40, ' Private', 56072, ' Masters', 14, ' Divorced', ' Prof-specialty', ' Not-in-family', ' White', ' Male', 0, 0, 20, ' United-States', ' <=50K'), (29536, 46, ' Local-gov', 133969, ' Masters', 14, ' Divorced', ' Prof-specialty', ' Not-in-family', ' Amer-Indian-Eskimo', ' Male', 0, 0, 40, ' United-States', ' <=50K'), (29694, 47, ' Private', 606752, ' Masters', 14, ' Divorced', ' Tech-support', ' Not-in-family', ' White', ' Male', 0, 0, 40, ' United-States', ' <=50K'), (30270, 41, ' State-gov', 100800, ' Masters', 14, ' Divorced', ' Prof-specialty', ' Not-in-family', ' White', ' Male', 0, 0, 35, ' United-States', ' <=50K'), (30373, 42, ' State-gov', 121265, ' Masters', 14, ' Divorced', ' Prof-specialty', ' Not-in-family', ' White', ' Male', 0, 0, 40, ' United-States', ' <=50K')]\n"
     ]
    }
   ],
   "source": [
    "cursor.execute('SELECT DISTINCT * FROM sqladb WHERE education = \" Masters\" AND age < 50 AND marital_status = \" Divorced\" AND native_country =\" United-States\" AND Sex =\" Male\" AND Income =\" <=50K\"')\n",
    "output = cursor.fetchall()\n",
    "print(output)"
   ]
  },
  {
   "cell_type": "markdown",
   "metadata": {},
   "source": [
    "Q5. Write two function queries"
   ]
  },
  {
   "cell_type": "code",
   "execution_count": 4,
   "metadata": {
    "collapsed": true
   },
   "outputs": [],
   "source": [
    "import sqlite3"
   ]
  },
  {
   "cell_type": "code",
   "execution_count": 5,
   "metadata": {},
   "outputs": [
    {
     "name": "stdout",
     "output_type": "stream",
     "text": [
      "[(44.306666666666665,)]\n"
     ]
    }
   ],
   "source": [
    "def age_check():\n",
    "    connection = sqlite3.connect(\"sqladb\")\n",
    "    cursor = connection.cursor()\n",
    "    cursor.execute('SELECT avg(age) FROM sqladb WHERE marital_status=\" Divorced\" AND sex=\" Male\" AND occupation =\" Exec-managerial\" ')\n",
    "    output = cursor.fetchall()\n",
    "    print(output)\n",
    "    connection.close()\n",
    "    \n",
    "age_check()\n",
    "\n"
   ]
  },
  {
   "cell_type": "code",
   "execution_count": 6,
   "metadata": {},
   "outputs": [
    {
     "name": "stdout",
     "output_type": "stream",
     "text": [
      "[(38.11081322609473,)]\n"
     ]
    }
   ],
   "source": [
    "def weekly_hours():\n",
    "    connection = sqlite3.connect('sqladb')\n",
    "    cursor = connection.cursor()\n",
    "    cursor.execute('SELECT avg(hours_per_week) FROM sqladb where occupation = \" Handlers-cleaners\" AND sex =\" Male\" AND workclass = \" Private\"')\n",
    "    output = cursor.fetchall()\n",
    "    print(output)\n",
    "    connection.close()\n",
    "weekly_hours()\n"
   ]
  }
 ],
 "metadata": {
  "kernelspec": {
   "display_name": "Python 3",
   "language": "python",
   "name": "python3"
  },
  "language_info": {
   "codemirror_mode": {
    "name": "ipython",
    "version": 3
   },
   "file_extension": ".py",
   "mimetype": "text/x-python",
   "name": "python",
   "nbconvert_exporter": "python",
   "pygments_lexer": "ipython3",
   "version": "3.6.3"
  }
 },
 "nbformat": 4,
 "nbformat_minor": 2
}
